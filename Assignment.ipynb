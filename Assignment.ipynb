{
  "nbformat": 4,
  "nbformat_minor": 0,
  "metadata": {
    "colab": {
      "provenance": []
    },
    "kernelspec": {
      "name": "python3",
      "display_name": "Python 3"
    },
    "language_info": {
      "name": "python"
    }
  },
  "cells": [
    {
      "cell_type": "markdown",
      "source": [
        "**1)** Data set reference link: https://www.consumerfinance.gov/data-research/consumer-complaints/#download-the-data\n",
        "\n",
        "File data source: https://files.consumerfinance.gov/ccdb/complaints.csv.zip\n",
        "\n",
        "Problem statement:\n",
        "Download the data from the file data source and provide possible data insights."
      ],
      "metadata": {
        "id": "Btn7LMogmpPM"
      }
    },
    {
      "cell_type": "code",
      "source": [
        "import pandas as pd\n",
        "import matplotlib.pyplot as plt\n",
        "\n",
        "# Load the data\n",
        "url = \"https://files.consumerfinance.gov/ccdb/complaints.csv.zip\"\n",
        "df = pd.read_csv(url, compression='zip')\n",
        "\n",
        "# Show the first few rows of the dataframe\n",
        "print(df.head())\n",
        "\n",
        "# Top 5 complaint types\n",
        "top_complaints = df['Product'].value_counts().head(5)\n",
        "print(top_complaints)\n",
        "\n",
        "# Trend of complaints over time\n",
        "df['Date received'] = pd.to_datetime(df['Date received'])\n",
        "complaints_over_time = df.groupby(df['Date received'].dt.to_period('M')).size()\n",
        "\n",
        "plt.figure(figsize=(12, 6))\n",
        "complaints_over_time.plot()\n",
        "plt.title('Complaints Over Time')\n",
        "plt.xlabel('Time')\n",
        "plt.ylabel('Number of Complaints')\n",
        "plt.show()"
      ],
      "metadata": {
        "id": "ACcenftFnEnA",
        "colab": {
          "base_uri": "https://localhost:8080/",
          "height": 1000
        },
        "outputId": "350b558e-c54b-4d76-bae9-76072078cc58"
      },
      "execution_count": 1,
      "outputs": [
        {
          "output_type": "stream",
          "name": "stderr",
          "text": [
            "<ipython-input-1-4c88fe47a0d7>:6: DtypeWarning: Columns (16) have mixed types. Specify dtype option on import or set low_memory=False.\n",
            "  df = pd.read_csv(url, compression='zip')\n"
          ]
        },
        {
          "output_type": "stream",
          "name": "stdout",
          "text": [
            "  Date received                                            Product  \\\n",
            "0    2024-05-16  Credit reporting or other personal consumer re...   \n",
            "1    2024-05-16  Credit reporting or other personal consumer re...   \n",
            "2    2024-05-04  Credit reporting or other personal consumer re...   \n",
            "3    2024-05-16  Credit reporting or other personal consumer re...   \n",
            "4    2024-05-16  Credit reporting or other personal consumer re...   \n",
            "\n",
            "        Sub-product                                              Issue  \\\n",
            "0  Credit reporting               Incorrect information on your report   \n",
            "1  Credit reporting               Incorrect information on your report   \n",
            "2  Credit reporting  Problem with a company's investigation into an...   \n",
            "3  Credit reporting                        Improper use of your report   \n",
            "4  Credit reporting  Problem with a company's investigation into an...   \n",
            "\n",
            "                                           Sub-issue  \\\n",
            "0                      Account information incorrect   \n",
            "1                Information belongs to someone else   \n",
            "2  Their investigation did not fix an error on yo...   \n",
            "3      Reporting company used your report improperly   \n",
            "4  Was not notified of investigation status or re...   \n",
            "\n",
            "  Consumer complaint narrative Company public response  \\\n",
            "0                          NaN                     NaN   \n",
            "1                          NaN                     NaN   \n",
            "2                          NaN                     NaN   \n",
            "3                          NaN                     NaN   \n",
            "4                          NaN                     NaN   \n",
            "\n",
            "                               Company State ZIP code Tags  \\\n",
            "0                        EQUIFAX, INC.    MI    48228  NaN   \n",
            "1                        EQUIFAX, INC.    GA    30315  NaN   \n",
            "2  Experian Information Solutions Inc.    FL    33139  NaN   \n",
            "3                        EQUIFAX, INC.    GA    30144  NaN   \n",
            "4                        EQUIFAX, INC.    CT    06040  NaN   \n",
            "\n",
            "  Consumer consent provided? Submitted via Date sent to company  \\\n",
            "0                        NaN           Web           2024-05-16   \n",
            "1                        NaN           Web           2024-05-16   \n",
            "2                        NaN           Web           2024-05-04   \n",
            "3                        NaN           Web           2024-05-16   \n",
            "4                        NaN           Web           2024-05-16   \n",
            "\n",
            "  Company response to consumer Timely response? Consumer disputed?  \\\n",
            "0                  In progress              Yes                NaN   \n",
            "1                  In progress              Yes                NaN   \n",
            "2                  In progress              Yes                NaN   \n",
            "3                  In progress              Yes                NaN   \n",
            "4                  In progress              Yes                NaN   \n",
            "\n",
            "   Complaint ID  \n",
            "0       9025658  \n",
            "1       9025656  \n",
            "2       8924799  \n",
            "3       9025651  \n",
            "4       9025643  \n",
            "Product\n",
            "Credit reporting, credit repair services, or other personal consumer reports    2163876\n",
            "Credit reporting or other personal consumer reports                             1030432\n",
            "Debt collection                                                                  572058\n",
            "Mortgage                                                                         398524\n",
            "Checking or savings account                                                      214238\n",
            "Name: count, dtype: int64\n"
          ]
        },
        {
          "output_type": "display_data",
          "data": {
            "text/plain": [
              "<Figure size 1200x600 with 1 Axes>"
            ],
            "image/png": "[encoded data removed]"
          },
          "metadata": {}
        }
      ]
    },
    {
      "cell_type": "markdown",
      "source": [
        "**Insights**\n",
        "\n",
        "Here’s what we can observe:\n",
        "\n",
        "Stable Period (2013 - Early 2021):\n",
        "\n",
        "For nearly a decade, from 2013 to around the beginning of 2021, the number of complaints remained relatively stable and low.\n",
        "The line on the graph hovers around or below the mark of approximately 25,000 complaints during this period.\n",
        "\n",
        "Sharp Uptick (2021 - 2023):\n",
        "\n",
        "Starting in 2021, there is a noticeable increase in complaints.\n",
        "By late 2022 or mid-2023, the number of complaints has skyrocketed, reaching close to or above approximately 150,000.\n",
        "This sharp uptick indicates an issue that has led to a rapid increase in complaints.\n",
        "\n",
        "Potential Causes:\n",
        "\n",
        "Without additional context, it’s challenging to pinpoint the exact reasons behind this surge in complaints.\n",
        "Possible factors could include changes in product quality, customer service issues, regulatory changes, or external events affecting the organization.\n",
        "\n",
        "Recommendations:\n",
        "\n",
        "To address this trend:\n",
        "\n",
        "Investigate the specific areas or products/services that have seen the most significant increase in complaints.\n",
        "\n",
        "Collect feedback from customers to understand their pain points and concerns.\n",
        "Review internal processes, policies, and communication channels to identify potential areas for improvement.\n",
        "\n",
        "Collaborate with relevant teams to implement corrective actions and enhance customer satisfaction."
      ],
      "metadata": {
        "id": "xZAJXIe6_Fwt"
      }
    },
    {
      "cell_type": "markdown",
      "source": [
        "**2)** Given an unsorted array of integers, find the length of the longest continuous increasing subsequence (subarray).\n",
        "\n",
        "Example 1:\n",
        "\n",
        "Input: [1,3,5,4,7]\n",
        "\n",
        "Output: 3\n",
        "\n",
        "Example 2:\n",
        "\n",
        "Input: [2,2,2,2,2]\n",
        "\n",
        "Output: 1"
      ],
      "metadata": {
        "id": "FgculrmFhJ7X"
      }
    },
    {
      "cell_type": "code",
      "execution_count": null,
      "metadata": {
        "colab": {
          "base_uri": "https://localhost:8080/"
        },
        "id": "idAO408uXHSd",
        "outputId": "a7c6f3f5-56a4-4df8-b275-b0b472bb7fad"
      },
      "outputs": [
        {
          "output_type": "stream",
          "name": "stdout",
          "text": [
            "3\n",
            "1\n"
          ]
        }
      ],
      "source": [
        "def find_length_of_LCIS(nums):\n",
        "\n",
        "  #Check if the input array is empty.\n",
        "  if not nums:\n",
        "    return 0\n",
        "\n",
        "  #Initialize variables to keep track of the maximum and current length of the increasing subsequence.\n",
        "  max_length = 1\n",
        "  current_length = 1\n",
        "\n",
        "  #Iterate through the array starting from the second element.\n",
        "  for i in range(1, len(nums)):\n",
        "\n",
        "    #Check if the current number is greater than the previous number\n",
        "    if nums[i] > nums[i - 1]:\n",
        "\n",
        "      # If it is, increment the current length of the increasing subsequence\n",
        "      current_length += 1\n",
        "\n",
        "      # Update the maximum length if the current length is greater\n",
        "      max_length = max(max_length, current_length)\n",
        "\n",
        "    else:\n",
        "      # If the current number is not greater than the previous number, reset the current length to 1\n",
        "      current_length = 1\n",
        "\n",
        "\n",
        "  # Return the maximum length of the increasing subsequence\n",
        "  return max_length\n",
        "\n",
        "#Example usage\n",
        "input1 = [1, 3, 5, 4, 7]\n",
        "input2 = [2, 2, 2, 2, 2]\n",
        "print(find_length_of_LCIS(input1))\n",
        "print(find_length_of_LCIS(input2))\n"
      ]
    },
    {
      "cell_type": "markdown",
      "source": [
        "**3)** Given a list of non negative integers, arrange them such that they form the largest number.\n",
        "\n",
        "Example 1:\n",
        "\n",
        "Input: [10,2]\n",
        "\n",
        "Output: \"210\"\n",
        "\n",
        "Example 2:\n",
        "\n",
        "Input: [3,30,34,5,9]\n",
        "\n",
        "Output: \"9534330\""
      ],
      "metadata": {
        "id": "0O0oSXrgheTk"
      }
    },
    {
      "cell_type": "code",
      "source": [
        "from functools import cmp_to_key\n",
        "\n",
        "def largest_number(nums):\n",
        "\n",
        "    # Convert integers to strings for comparison\n",
        "    nums = list(map(str, nums))\n",
        "\n",
        "    # Define a custom comparison function for sorting\n",
        "    def compare(a, b):\n",
        "        return int(b + a) - int(a + b)\n",
        "\n",
        "    # Sort the numbers using the custom comparison function\n",
        "    nums.sort(key=cmp_to_key(compare))\n",
        "\n",
        "    # Join the sorted numbers into a string\n",
        "    largest_num = ''.join(nums)\n",
        "\n",
        "    # If the largest number is \"0\", return \"0\"\n",
        "    if largest_num[0] == '0':\n",
        "        return \"0\"\n",
        "\n",
        "    return largest_num\n",
        "\n",
        "# Example usage:\n",
        "input1 = [10, 2]\n",
        "input2 = [3, 30, 34, 5, 9]\n",
        "print(largest_number(input1))  # Output: \"210\"\n",
        "print(largest_number(input2))  # Output: \"9534330\"\n"
      ],
      "metadata": {
        "colab": {
          "base_uri": "https://localhost:8080/"
        },
        "id": "TcX9bgkeiOAY",
        "outputId": "c7a287e6-5102-40bd-f80d-02f276336a4f"
      },
      "execution_count": null,
      "outputs": [
        {
          "output_type": "stream",
          "name": "stdout",
          "text": [
            "210\n",
            "9534330\n"
          ]
        }
      ]
    },
    {
      "cell_type": "markdown",
      "source": [
        "**4)** Store all the \"servlet-name\", and \"servlet-class\" to a csv file from the attached sample_json.json file using Python."
      ],
      "metadata": {
        "id": "VdMVipuMi2E_"
      }
    },
    {
      "cell_type": "code",
      "source": [
        "import json\n",
        "import csv\n",
        "\n",
        "# Load JSON data\n",
        "with open('/content/A1sample_json.json') as f:\n",
        "    data = json.load(f)\n",
        "\n",
        "# Extract servlet data\n",
        "servlets = data['web-app']['servlet']\n",
        "\n",
        "# Write servlet data to CSV\n",
        "with open('servlet_data.csv', mode='w', newline='') as file:\n",
        "    writer = csv.writer(file)\n",
        "    writer.writerow(['servlet-name', 'servlet-class'])\n",
        "    for servlet in servlets:\n",
        "        servlet_name = servlet.get('servlet-name', '')\n",
        "        servlet_class = servlet.get('servlet-class', '')\n",
        "        writer.writerow([servlet_name, servlet_class])\n",
        "\n",
        "print(\"CSV file generated successfully.\")"
      ],
      "metadata": {
        "colab": {
          "base_uri": "https://localhost:8080/"
        },
        "id": "_jAHqaCmlTQx",
        "outputId": "ebdbda62-0610-4087-94a8-d024d1e4f7e3"
      },
      "execution_count": null,
      "outputs": [
        {
          "output_type": "stream",
          "name": "stdout",
          "text": [
            "CSV file generated successfully.\n"
          ]
        }
      ]
    }
  ]
}